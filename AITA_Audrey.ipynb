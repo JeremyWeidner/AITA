{
 "cells": [
  {
   "cell_type": "code",
   "execution_count": 1,
   "metadata": {},
   "outputs": [],
   "source": [
    "# Download packages\n",
    "import pandas as pd\n",
    "pd.set_option('display.max_columns',250)\n",
    "\n",
    "import numpy as np\n",
    "\n",
    "import seaborn as sns\n",
    "import matplotlib.pyplot as plt\n",
    "%matplotlib inline\n",
    "\n",
    "import nltk\n",
    "from nltk.corpus import stopwords\n",
    "from nltk.tokenize import RegexpTokenizer\n",
    "from nltk.stem import WordNetLemmatizer\n",
    "import re\n",
    "import string\n",
    "\n",
    "from wordcloud import WordCloud, STOPWORDS, ImageColorGenerator\n",
    "\n",
    "from google.cloud import bigquery\n",
    "# version conflict, needs to be google-cloud = 0.26.1\n",
    "\n",
    "from sklearn.feature_extraction.text import TfidfVectorizer\n",
    "from sklearn.feature_selection import chi2\n",
    "from sklearn.model_selection import train_test_split\n",
    "from sklearn.feature_extraction.text import TfidfTransformer\n",
    "from sklearn.naive_bayes import MultinomialNB\n",
    "from sklearn.linear_model import LogisticRegression\n",
    "from sklearn.ensemble import RandomForestClassifier\n",
    "from sklearn.svm import LinearSVC\n",
    "from sklearn.model_selection import cross_val_score\n",
    "from sklearn.metrics import confusion_matrix\n",
    "from sklearn import metrics\n",
    "\n",
    "from io import StringIO\n",
    "from IPython.display import display\n",
    "import os\n"
   ]
  },
  {
   "cell_type": "code",
   "execution_count": 3,
   "metadata": {},
   "outputs": [],
   "source": [
    "os.environ['GOOGLE_APPLICATION_CREDENTIALS'] = '~/.config/gcloud/application_default_credentials.json'"
   ]
  },
  {
   "cell_type": "code",
   "execution_count": 4,
   "metadata": {},
   "outputs": [],
   "source": [
    "credential_path = \"/Users/audreychu/Desktop/projects/reddit/reddit AITA-55c7ff53d5ec.json\"\n",
    "# credential_path = \"/home/jeremy/Desktop/projects/reddit/reddit AITA-2991631ea459.json\"\n",
    "os.environ['GOOGLE_APPLICATION_CREDENTIALS'] = credential_path\n",
    "\n",
    "client = bigquery.Client()"
   ]
  },
  {
   "cell_type": "code",
   "execution_count": 5,
   "metadata": {},
   "outputs": [],
   "source": [
    "# Query post data\n",
    "\n",
    "QUERY = (\"\"\" SELECT * FROM fh-bigquery.reddit_posts.2019_08 WHERE subreddit = 'AmItheAsshole' and score > 10 and num_comments > 2\n",
    "\n",
    "        UNION DISTINCT\n",
    "\n",
    "        SELECT * \n",
    "        FROM `fh-bigquery.reddit_posts.2019_07`\n",
    "        WHERE subreddit = 'AmItheAsshole'\n",
    "        and score > 10\n",
    "        and num_comments > 2 \n",
    "\n",
    "        UNION DISTINCT\n",
    "\n",
    "        SELECT * \n",
    "        FROM `fh-bigquery.reddit_posts.2019_06`\n",
    "        WHERE subreddit = 'AmItheAsshole'\n",
    "        and score > 10\n",
    "        and num_comments > 2\n",
    "\n",
    "        UNION DISTINCT\n",
    "\n",
    "        SELECT * \n",
    "        FROM `fh-bigquery.reddit_posts.2019_05`\n",
    "        WHERE subreddit = 'AmItheAsshole'\n",
    "        and score > 10\n",
    "        and num_comments > 2\n",
    "\n",
    "        UNION DISTINCT\n",
    "\n",
    "        SELECT * \n",
    "        FROM `fh-bigquery.reddit_posts.2019_04`\n",
    "        WHERE subreddit = 'AmItheAsshole'\n",
    "        and score > 10\n",
    "        and num_comments > 2\n",
    "\n",
    "        UNION DISTINCT\n",
    "\n",
    "        SELECT * \n",
    "        FROM `fh-bigquery.reddit_posts.2019_03`\n",
    "        WHERE subreddit = 'AmItheAsshole'\n",
    "        and score > 10\n",
    "        and num_comments > 2\n",
    "\n",
    "        UNION DISTINCT\n",
    "\n",
    "        SELECT * \n",
    "        FROM `fh-bigquery.reddit_posts.2019_02`\n",
    "        WHERE subreddit = 'AmItheAsshole'\n",
    "        and score > 10\n",
    "        and num_comments > 2\n",
    "\n",
    "        UNION DISTINCT\n",
    "\n",
    "        SELECT * \n",
    "        FROM `fh-bigquery.reddit_posts.2019_01`\n",
    "        WHERE subreddit = 'AmItheAsshole'\n",
    "        and score > 10\n",
    "        and num_comments > 2\n",
    "        \n",
    "        UNION DISTINCT\n",
    "\n",
    "        SELECT * \n",
    "        FROM `fh-bigquery.reddit_posts.2018_12`\n",
    "        WHERE subreddit = 'AmItheAsshole'\n",
    "        and score > 10\n",
    "        and num_comments > 2\n",
    "        \n",
    "        UNION DISTINCT\n",
    "\n",
    "        SELECT * \n",
    "        FROM `fh-bigquery.reddit_posts.2018_11`\n",
    "        WHERE subreddit = 'AmItheAsshole'\n",
    "        and score > 10\n",
    "        and num_comments > 2\n",
    "        \n",
    "        UNION DISTINCT\n",
    "\n",
    "        SELECT * \n",
    "        FROM `fh-bigquery.reddit_posts.2018_10`\n",
    "        WHERE subreddit = 'AmItheAsshole'\n",
    "        and score > 10\n",
    "        and num_comments > 2\n",
    "        \n",
    "        UNION DISTINCT\n",
    "\n",
    "        SELECT * \n",
    "        FROM `fh-bigquery.reddit_posts.2018_09`\n",
    "        WHERE subreddit = 'AmItheAsshole'\n",
    "        and score > 10\n",
    "        and num_comments > 2\n",
    "    \"\"\")\n"
   ]
  },
  {
   "cell_type": "code",
   "execution_count": 6,
   "metadata": {},
   "outputs": [],
   "source": [
    "# API request\n",
    "query_job = client.query(QUERY)"
   ]
  },
  {
   "cell_type": "code",
   "execution_count": 8,
   "metadata": {},
   "outputs": [
    {
     "data": {
      "text/plain": [
       "(39354, 33)"
      ]
     },
     "execution_count": 8,
     "metadata": {},
     "output_type": "execute_result"
    }
   ],
   "source": [
    "# Waits for query to finish\n",
    "rows = query_job.result()\n",
    "#for row in rows:\n",
    "#    print(row.name)\n",
    "df = query_job.to_dataframe()\n",
    "df.shape"
   ]
  },
  {
   "cell_type": "code",
   "execution_count": 9,
   "metadata": {},
   "outputs": [],
   "source": [
    "df.to_pickle('reddit_aita_2019_08.pickle')"
   ]
  },
  {
   "cell_type": "code",
   "execution_count": 10,
   "metadata": {},
   "outputs": [],
   "source": [
    "df = pd.read_pickle('reddit_aita_2019_08.pickle')"
   ]
  },
  {
   "cell_type": "code",
   "execution_count": 11,
   "metadata": {},
   "outputs": [],
   "source": [
    "df['title_length'] = [len(x.split()) for x in df['title']]\n",
    "df['post_length'] = [len(x.split()) for x in df['selftext']]"
   ]
  },
  {
   "cell_type": "code",
   "execution_count": 12,
   "metadata": {},
   "outputs": [
    {
     "data": {
      "text/html": [
       "<div>\n",
       "<style scoped>\n",
       "    .dataframe tbody tr th:only-of-type {\n",
       "        vertical-align: middle;\n",
       "    }\n",
       "\n",
       "    .dataframe tbody tr th {\n",
       "        vertical-align: top;\n",
       "    }\n",
       "\n",
       "    .dataframe thead th {\n",
       "        text-align: right;\n",
       "    }\n",
       "</style>\n",
       "<table border=\"1\" class=\"dataframe\">\n",
       "  <thead>\n",
       "    <tr style=\"text-align: right;\">\n",
       "      <th></th>\n",
       "      <th>created_utc</th>\n",
       "      <th>subreddit</th>\n",
       "      <th>author</th>\n",
       "      <th>domain</th>\n",
       "      <th>url</th>\n",
       "      <th>num_comments</th>\n",
       "      <th>score</th>\n",
       "      <th>ups</th>\n",
       "      <th>downs</th>\n",
       "      <th>title</th>\n",
       "      <th>selftext</th>\n",
       "      <th>saved</th>\n",
       "      <th>id</th>\n",
       "      <th>from_kind</th>\n",
       "      <th>gilded</th>\n",
       "      <th>from</th>\n",
       "      <th>stickied</th>\n",
       "      <th>retrieved_on</th>\n",
       "      <th>over_18</th>\n",
       "      <th>thumbnail</th>\n",
       "      <th>subreddit_id</th>\n",
       "      <th>hide_score</th>\n",
       "      <th>link_flair_css_class</th>\n",
       "      <th>author_flair_css_class</th>\n",
       "      <th>archived</th>\n",
       "      <th>is_self</th>\n",
       "      <th>from_id</th>\n",
       "      <th>permalink</th>\n",
       "      <th>name</th>\n",
       "      <th>author_flair_text</th>\n",
       "      <th>quarantine</th>\n",
       "      <th>link_flair_text</th>\n",
       "      <th>distinguished</th>\n",
       "      <th>title_length</th>\n",
       "      <th>post_length</th>\n",
       "    </tr>\n",
       "  </thead>\n",
       "  <tbody>\n",
       "    <tr>\n",
       "      <th>0</th>\n",
       "      <td>1539012283</td>\n",
       "      <td>AmItheAsshole</td>\n",
       "      <td>[deleted]</td>\n",
       "      <td>self.AmItheAsshole</td>\n",
       "      <td>https://www.reddit.com/r/AmItheAsshole/comment...</td>\n",
       "      <td>22</td>\n",
       "      <td>31</td>\n",
       "      <td>None</td>\n",
       "      <td>None</td>\n",
       "      <td>AITA for going out of my way to avoid a disabl...</td>\n",
       "      <td>[deleted]</td>\n",
       "      <td>None</td>\n",
       "      <td>9mft0t</td>\n",
       "      <td>None</td>\n",
       "      <td>0</td>\n",
       "      <td>None</td>\n",
       "      <td>False</td>\n",
       "      <td>1542574300</td>\n",
       "      <td>False</td>\n",
       "      <td>default</td>\n",
       "      <td>t5_2xhvq</td>\n",
       "      <td>None</td>\n",
       "      <td>not</td>\n",
       "      <td>None</td>\n",
       "      <td>False</td>\n",
       "      <td>True</td>\n",
       "      <td>None</td>\n",
       "      <td>/r/AmItheAsshole/comments/9mft0t/aita_for_goin...</td>\n",
       "      <td>None</td>\n",
       "      <td>None</td>\n",
       "      <td>False</td>\n",
       "      <td>not the a-hole</td>\n",
       "      <td>None</td>\n",
       "      <td>12</td>\n",
       "      <td>1</td>\n",
       "    </tr>\n",
       "    <tr>\n",
       "      <th>1</th>\n",
       "      <td>1540096028</td>\n",
       "      <td>AmItheAsshole</td>\n",
       "      <td>Pareogo</td>\n",
       "      <td>self.AmItheAsshole</td>\n",
       "      <td>https://www.reddit.com/r/AmItheAsshole/comment...</td>\n",
       "      <td>24</td>\n",
       "      <td>21</td>\n",
       "      <td>None</td>\n",
       "      <td>None</td>\n",
       "      <td>AITA? Did I make a racist joke?</td>\n",
       "      <td>Ok, so I’ve been wanting to get this off my ch...</td>\n",
       "      <td>None</td>\n",
       "      <td>9q0u0k</td>\n",
       "      <td>None</td>\n",
       "      <td>0</td>\n",
       "      <td>None</td>\n",
       "      <td>False</td>\n",
       "      <td>1542634853</td>\n",
       "      <td>False</td>\n",
       "      <td>self</td>\n",
       "      <td>t5_2xhvq</td>\n",
       "      <td>None</td>\n",
       "      <td>ass</td>\n",
       "      <td>None</td>\n",
       "      <td>False</td>\n",
       "      <td>True</td>\n",
       "      <td>None</td>\n",
       "      <td>/r/AmItheAsshole/comments/9q0u0k/aita_did_i_ma...</td>\n",
       "      <td>None</td>\n",
       "      <td>None</td>\n",
       "      <td>False</td>\n",
       "      <td>Asshole-ish</td>\n",
       "      <td>None</td>\n",
       "      <td>7</td>\n",
       "      <td>285</td>\n",
       "    </tr>\n",
       "    <tr>\n",
       "      <th>2</th>\n",
       "      <td>1536624485</td>\n",
       "      <td>AmItheAsshole</td>\n",
       "      <td>MyBigMessyCryFace</td>\n",
       "      <td>self.AmItheAsshole</td>\n",
       "      <td>https://www.reddit.com/r/AmItheAsshole/comment...</td>\n",
       "      <td>24</td>\n",
       "      <td>18</td>\n",
       "      <td>None</td>\n",
       "      <td>None</td>\n",
       "      <td>AITA because I didn’t want to talk about being...</td>\n",
       "      <td>**UPDATE: I’ve realised that the molestation w...</td>\n",
       "      <td>None</td>\n",
       "      <td>9esixs</td>\n",
       "      <td>None</td>\n",
       "      <td>0</td>\n",
       "      <td>None</td>\n",
       "      <td>False</td>\n",
       "      <td>1540105571</td>\n",
       "      <td>False</td>\n",
       "      <td>self</td>\n",
       "      <td>t5_2xhvq</td>\n",
       "      <td>None</td>\n",
       "      <td>not</td>\n",
       "      <td>None</td>\n",
       "      <td>False</td>\n",
       "      <td>True</td>\n",
       "      <td>None</td>\n",
       "      <td>/r/AmItheAsshole/comments/9esixs/aita_because_...</td>\n",
       "      <td>None</td>\n",
       "      <td>None</td>\n",
       "      <td>False</td>\n",
       "      <td>not the a-hole</td>\n",
       "      <td>None</td>\n",
       "      <td>10</td>\n",
       "      <td>959</td>\n",
       "    </tr>\n",
       "    <tr>\n",
       "      <th>3</th>\n",
       "      <td>1539231111</td>\n",
       "      <td>AmItheAsshole</td>\n",
       "      <td>Cxxcxc214</td>\n",
       "      <td>self.AmItheAsshole</td>\n",
       "      <td>https://www.reddit.com/r/AmItheAsshole/comment...</td>\n",
       "      <td>70</td>\n",
       "      <td>34</td>\n",
       "      <td>None</td>\n",
       "      <td>None</td>\n",
       "      <td>AITA for vaping THC and getting high in my room?</td>\n",
       "      <td>I work part time, school full time. I am 20 ye...</td>\n",
       "      <td>None</td>\n",
       "      <td>9n6or7</td>\n",
       "      <td>None</td>\n",
       "      <td>0</td>\n",
       "      <td>None</td>\n",
       "      <td>False</td>\n",
       "      <td>1542586848</td>\n",
       "      <td>False</td>\n",
       "      <td>self</td>\n",
       "      <td>t5_2xhvq</td>\n",
       "      <td>None</td>\n",
       "      <td>not</td>\n",
       "      <td>None</td>\n",
       "      <td>False</td>\n",
       "      <td>True</td>\n",
       "      <td>None</td>\n",
       "      <td>/r/AmItheAsshole/comments/9n6or7/aita_for_vapi...</td>\n",
       "      <td>None</td>\n",
       "      <td>None</td>\n",
       "      <td>False</td>\n",
       "      <td>not the a-hole</td>\n",
       "      <td>None</td>\n",
       "      <td>10</td>\n",
       "      <td>227</td>\n",
       "    </tr>\n",
       "    <tr>\n",
       "      <th>4</th>\n",
       "      <td>1537793324</td>\n",
       "      <td>AmItheAsshole</td>\n",
       "      <td>MalgrugrousStudent</td>\n",
       "      <td>self.AmItheAsshole</td>\n",
       "      <td>https://www.reddit.com/r/AmItheAsshole/comment...</td>\n",
       "      <td>72</td>\n",
       "      <td>124</td>\n",
       "      <td>None</td>\n",
       "      <td>None</td>\n",
       "      <td>AITA For not wanting a mum with a pram taking ...</td>\n",
       "      <td>I take a train in the morning everyday. I take...</td>\n",
       "      <td>None</td>\n",
       "      <td>9ihmjw</td>\n",
       "      <td>None</td>\n",
       "      <td>0</td>\n",
       "      <td>None</td>\n",
       "      <td>False</td>\n",
       "      <td>1540167917</td>\n",
       "      <td>False</td>\n",
       "      <td>self</td>\n",
       "      <td>t5_2xhvq</td>\n",
       "      <td>None</td>\n",
       "      <td>ass</td>\n",
       "      <td>None</td>\n",
       "      <td>False</td>\n",
       "      <td>True</td>\n",
       "      <td>None</td>\n",
       "      <td>/r/AmItheAsshole/comments/9ihmjw/aita_for_not_...</td>\n",
       "      <td>None</td>\n",
       "      <td>None</td>\n",
       "      <td>False</td>\n",
       "      <td>asshole</td>\n",
       "      <td>None</td>\n",
       "      <td>18</td>\n",
       "      <td>303</td>\n",
       "    </tr>\n",
       "  </tbody>\n",
       "</table>\n",
       "</div>"
      ],
      "text/plain": [
       "   created_utc      subreddit              author              domain  \\\n",
       "0   1539012283  AmItheAsshole           [deleted]  self.AmItheAsshole   \n",
       "1   1540096028  AmItheAsshole             Pareogo  self.AmItheAsshole   \n",
       "2   1536624485  AmItheAsshole   MyBigMessyCryFace  self.AmItheAsshole   \n",
       "3   1539231111  AmItheAsshole           Cxxcxc214  self.AmItheAsshole   \n",
       "4   1537793324  AmItheAsshole  MalgrugrousStudent  self.AmItheAsshole   \n",
       "\n",
       "                                                 url  num_comments  score  \\\n",
       "0  https://www.reddit.com/r/AmItheAsshole/comment...            22     31   \n",
       "1  https://www.reddit.com/r/AmItheAsshole/comment...            24     21   \n",
       "2  https://www.reddit.com/r/AmItheAsshole/comment...            24     18   \n",
       "3  https://www.reddit.com/r/AmItheAsshole/comment...            70     34   \n",
       "4  https://www.reddit.com/r/AmItheAsshole/comment...            72    124   \n",
       "\n",
       "    ups downs                                              title  \\\n",
       "0  None  None  AITA for going out of my way to avoid a disabl...   \n",
       "1  None  None                    AITA? Did I make a racist joke?   \n",
       "2  None  None  AITA because I didn’t want to talk about being...   \n",
       "3  None  None   AITA for vaping THC and getting high in my room?   \n",
       "4  None  None  AITA For not wanting a mum with a pram taking ...   \n",
       "\n",
       "                                            selftext saved      id from_kind  \\\n",
       "0                                          [deleted]  None  9mft0t      None   \n",
       "1  Ok, so I’ve been wanting to get this off my ch...  None  9q0u0k      None   \n",
       "2  **UPDATE: I’ve realised that the molestation w...  None  9esixs      None   \n",
       "3  I work part time, school full time. I am 20 ye...  None  9n6or7      None   \n",
       "4  I take a train in the morning everyday. I take...  None  9ihmjw      None   \n",
       "\n",
       "   gilded  from  stickied  retrieved_on  over_18 thumbnail subreddit_id  \\\n",
       "0       0  None     False    1542574300    False   default     t5_2xhvq   \n",
       "1       0  None     False    1542634853    False      self     t5_2xhvq   \n",
       "2       0  None     False    1540105571    False      self     t5_2xhvq   \n",
       "3       0  None     False    1542586848    False      self     t5_2xhvq   \n",
       "4       0  None     False    1540167917    False      self     t5_2xhvq   \n",
       "\n",
       "  hide_score link_flair_css_class author_flair_css_class archived  is_self  \\\n",
       "0       None                  not                   None    False     True   \n",
       "1       None                  ass                   None    False     True   \n",
       "2       None                  not                   None    False     True   \n",
       "3       None                  not                   None    False     True   \n",
       "4       None                  ass                   None    False     True   \n",
       "\n",
       "  from_id                                          permalink  name  \\\n",
       "0    None  /r/AmItheAsshole/comments/9mft0t/aita_for_goin...  None   \n",
       "1    None  /r/AmItheAsshole/comments/9q0u0k/aita_did_i_ma...  None   \n",
       "2    None  /r/AmItheAsshole/comments/9esixs/aita_because_...  None   \n",
       "3    None  /r/AmItheAsshole/comments/9n6or7/aita_for_vapi...  None   \n",
       "4    None  /r/AmItheAsshole/comments/9ihmjw/aita_for_not_...  None   \n",
       "\n",
       "  author_flair_text  quarantine link_flair_text distinguished  title_length  \\\n",
       "0              None       False  not the a-hole          None            12   \n",
       "1              None       False     Asshole-ish          None             7   \n",
       "2              None       False  not the a-hole          None            10   \n",
       "3              None       False  not the a-hole          None            10   \n",
       "4              None       False         asshole          None            18   \n",
       "\n",
       "   post_length  \n",
       "0            1  \n",
       "1          285  \n",
       "2          959  \n",
       "3          227  \n",
       "4          303  "
      ]
     },
     "execution_count": 12,
     "metadata": {},
     "output_type": "execute_result"
    }
   ],
   "source": [
    "df.head()"
   ]
  },
  {
   "cell_type": "code",
   "execution_count": 51,
   "metadata": {},
   "outputs": [
    {
     "data": {
      "text/html": [
       "<div>\n",
       "<style scoped>\n",
       "    .dataframe tbody tr th:only-of-type {\n",
       "        vertical-align: middle;\n",
       "    }\n",
       "\n",
       "    .dataframe tbody tr th {\n",
       "        vertical-align: top;\n",
       "    }\n",
       "\n",
       "    .dataframe thead th {\n",
       "        text-align: right;\n",
       "    }\n",
       "</style>\n",
       "<table border=\"1\" class=\"dataframe\">\n",
       "  <thead>\n",
       "    <tr style=\"text-align: right;\">\n",
       "      <th></th>\n",
       "      <th>created_utc</th>\n",
       "      <th>num_comments</th>\n",
       "      <th>score</th>\n",
       "      <th>gilded</th>\n",
       "      <th>retrieved_on</th>\n",
       "      <th>title_length</th>\n",
       "      <th>post_length</th>\n",
       "    </tr>\n",
       "  </thead>\n",
       "  <tbody>\n",
       "    <tr>\n",
       "      <th>count</th>\n",
       "      <td>3.935400e+04</td>\n",
       "      <td>39354.000000</td>\n",
       "      <td>39354.000000</td>\n",
       "      <td>39354.000000</td>\n",
       "      <td>3.935400e+04</td>\n",
       "      <td>39354.000000</td>\n",
       "      <td>39354.000000</td>\n",
       "    </tr>\n",
       "    <tr>\n",
       "      <th>mean</th>\n",
       "      <td>1.557060e+09</td>\n",
       "      <td>145.459674</td>\n",
       "      <td>581.060832</td>\n",
       "      <td>0.017254</td>\n",
       "      <td>1.561065e+09</td>\n",
       "      <td>12.709737</td>\n",
       "      <td>258.386339</td>\n",
       "    </tr>\n",
       "    <tr>\n",
       "      <th>std</th>\n",
       "      <td>7.116522e+06</td>\n",
       "      <td>390.783393</td>\n",
       "      <td>2508.130847</td>\n",
       "      <td>0.214657</td>\n",
       "      <td>6.426437e+06</td>\n",
       "      <td>5.134729</td>\n",
       "      <td>223.506395</td>\n",
       "    </tr>\n",
       "    <tr>\n",
       "      <th>min</th>\n",
       "      <td>1.535763e+09</td>\n",
       "      <td>3.000000</td>\n",
       "      <td>11.000000</td>\n",
       "      <td>0.000000</td>\n",
       "      <td>1.540057e+09</td>\n",
       "      <td>1.000000</td>\n",
       "      <td>0.000000</td>\n",
       "    </tr>\n",
       "    <tr>\n",
       "      <th>25%</th>\n",
       "      <td>1.552461e+09</td>\n",
       "      <td>25.000000</td>\n",
       "      <td>17.000000</td>\n",
       "      <td>0.000000</td>\n",
       "      <td>1.560187e+09</td>\n",
       "      <td>9.000000</td>\n",
       "      <td>1.000000</td>\n",
       "    </tr>\n",
       "    <tr>\n",
       "      <th>50%</th>\n",
       "      <td>1.558113e+09</td>\n",
       "      <td>44.000000</td>\n",
       "      <td>39.000000</td>\n",
       "      <td>0.000000</td>\n",
       "      <td>1.560953e+09</td>\n",
       "      <td>12.000000</td>\n",
       "      <td>241.000000</td>\n",
       "    </tr>\n",
       "    <tr>\n",
       "      <th>75%</th>\n",
       "      <td>1.563108e+09</td>\n",
       "      <td>102.000000</td>\n",
       "      <td>175.000000</td>\n",
       "      <td>0.000000</td>\n",
       "      <td>1.566722e+09</td>\n",
       "      <td>15.000000</td>\n",
       "      <td>407.000000</td>\n",
       "    </tr>\n",
       "    <tr>\n",
       "      <th>max</th>\n",
       "      <td>1.567295e+09</td>\n",
       "      <td>10655.000000</td>\n",
       "      <td>66384.000000</td>\n",
       "      <td>20.000000</td>\n",
       "      <td>1.567381e+09</td>\n",
       "      <td>64.000000</td>\n",
       "      <td>2666.000000</td>\n",
       "    </tr>\n",
       "  </tbody>\n",
       "</table>\n",
       "</div>"
      ],
      "text/plain": [
       "        created_utc  num_comments         score        gilded  retrieved_on  \\\n",
       "count  3.935400e+04  39354.000000  39354.000000  39354.000000  3.935400e+04   \n",
       "mean   1.557060e+09    145.459674    581.060832      0.017254  1.561065e+09   \n",
       "std    7.116522e+06    390.783393   2508.130847      0.214657  6.426437e+06   \n",
       "min    1.535763e+09      3.000000     11.000000      0.000000  1.540057e+09   \n",
       "25%    1.552461e+09     25.000000     17.000000      0.000000  1.560187e+09   \n",
       "50%    1.558113e+09     44.000000     39.000000      0.000000  1.560953e+09   \n",
       "75%    1.563108e+09    102.000000    175.000000      0.000000  1.566722e+09   \n",
       "max    1.567295e+09  10655.000000  66384.000000     20.000000  1.567381e+09   \n",
       "\n",
       "       title_length   post_length  \n",
       "count  39354.000000  39354.000000  \n",
       "mean      12.709737    258.386339  \n",
       "std        5.134729    223.506395  \n",
       "min        1.000000      0.000000  \n",
       "25%        9.000000      1.000000  \n",
       "50%       12.000000    241.000000  \n",
       "75%       15.000000    407.000000  \n",
       "max       64.000000   2666.000000  "
      ]
     },
     "execution_count": 51,
     "metadata": {},
     "output_type": "execute_result"
    }
   ],
   "source": [
    "# these stats are only for posts with at least 10 net upvotes and 2 comments as per data pull\n",
    "# Audrey to change what is pulled\n",
    "df.describe()"
   ]
  },
  {
   "cell_type": "code",
   "execution_count": 52,
   "metadata": {},
   "outputs": [
    {
     "data": {
      "text/plain": [
       "39354"
      ]
     },
     "execution_count": 52,
     "metadata": {},
     "output_type": "execute_result"
    }
   ],
   "source": [
    "len(df)"
   ]
  },
  {
   "cell_type": "code",
   "execution_count": null,
   "metadata": {},
   "outputs": [],
   "source": [
    "# Query comment data\n",
    "\n",
    "QUERY = (\"\"\" SELECT * FROM fh-bigquery.reddit_comments.2019_08 WHERE subreddit = 'AmItheAsshole'\n",
    "\n",
    "        UNION DISTINCT\n",
    "\n",
    "        SELECT * \n",
    "        FROM `fh-bigquery.reddit_posts.2019_07`\n",
    "        WHERE subreddit = 'AmItheAsshole'\n",
    "        and score > 10\n",
    "        and num_comments > 2 \n",
    "\n",
    "        UNION DISTINCT\n",
    "\n",
    "        SELECT * \n",
    "        FROM `fh-bigquery.reddit_posts.2019_06`\n",
    "        WHERE subreddit = 'AmItheAsshole'\n",
    "        and score > 10\n",
    "        and num_comments > 2\n",
    "\n",
    "        UNION DISTINCT\n",
    "\n",
    "        SELECT * \n",
    "        FROM `fh-bigquery.reddit_posts.2019_05`\n",
    "        WHERE subreddit = 'AmItheAsshole'\n",
    "        and score > 10\n",
    "        and num_comments > 2\n",
    "\n",
    "        UNION DISTINCT\n",
    "\n",
    "        SELECT * \n",
    "        FROM `fh-bigquery.reddit_posts.2019_04`\n",
    "        WHERE subreddit = 'AmItheAsshole'\n",
    "        and score > 10\n",
    "        and num_comments > 2\n",
    "\n",
    "        UNION DISTINCT\n",
    "\n",
    "        SELECT * \n",
    "        FROM `fh-bigquery.reddit_posts.2019_03`\n",
    "        WHERE subreddit = 'AmItheAsshole'\n",
    "        and score > 10\n",
    "        and num_comments > 2\n",
    "\n",
    "        UNION DISTINCT\n",
    "\n",
    "        SELECT * \n",
    "        FROM `fh-bigquery.reddit_posts.2019_02`\n",
    "        WHERE subreddit = 'AmItheAsshole'\n",
    "        and score > 10\n",
    "        and num_comments > 2\n",
    "\n",
    "        UNION DISTINCT\n",
    "\n",
    "        SELECT * \n",
    "        FROM `fh-bigquery.reddit_posts.2019_01`\n",
    "        WHERE subreddit = 'AmItheAsshole'\n",
    "        and score > 10\n",
    "        and num_comments > 2\n",
    "        \n",
    "        UNION DISTINCT\n",
    "\n",
    "        SELECT * \n",
    "        FROM `fh-bigquery.reddit_posts.2018_12`\n",
    "        WHERE subreddit = 'AmItheAsshole'\n",
    "        and score > 10\n",
    "        and num_comments > 2\n",
    "        \n",
    "        UNION DISTINCT\n",
    "\n",
    "        SELECT * \n",
    "        FROM `fh-bigquery.reddit_posts.2018_11`\n",
    "        WHERE subreddit = 'AmItheAsshole'\n",
    "        and score > 10\n",
    "        and num_comments > 2\n",
    "        \n",
    "        UNION DISTINCT\n",
    "\n",
    "        SELECT * \n",
    "        FROM `fh-bigquery.reddit_posts.2018_10`\n",
    "        WHERE subreddit = 'AmItheAsshole'\n",
    "        and score > 10\n",
    "        and num_comments > 2\n",
    "        \n",
    "        UNION DISTINCT\n",
    "\n",
    "        SELECT * \n",
    "        FROM `fh-bigquery.reddit_posts.2018_09`\n",
    "        WHERE subreddit = 'AmItheAsshole'\n",
    "        and score > 10\n",
    "        and num_comments > 2\n",
    "    \"\"\")\n"
   ]
  },
  {
   "cell_type": "code",
   "execution_count": 13,
   "metadata": {},
   "outputs": [],
   "source": [
    "# Query comment data\n",
    "\n",
    "QUERY_com = (\"\"\" SELECT * FROM fh-bigquery.reddit_comments.2019_08 WHERE subreddit = 'AmItheAsshole'\n",
    "\n",
    "    \"\"\")\n"
   ]
  },
  {
   "cell_type": "code",
   "execution_count": 14,
   "metadata": {},
   "outputs": [
    {
     "data": {
      "text/plain": [
       "(1454892, 20)"
      ]
     },
     "execution_count": 14,
     "metadata": {},
     "output_type": "execute_result"
    }
   ],
   "source": [
    "# API request\n",
    "query_job_com = client.query(QUERY_com)\n",
    "\n",
    "# Waits for query to finish\n",
    "rows_com = query_job_com.result()\n",
    "#for row in rows:\n",
    "#    print(row.name)\n",
    "df_com = query_job_com.to_dataframe()\n",
    "df_com.shape"
   ]
  },
  {
   "cell_type": "code",
   "execution_count": 15,
   "metadata": {},
   "outputs": [
    {
     "data": {
      "text/html": [
       "<div>\n",
       "<style scoped>\n",
       "    .dataframe tbody tr th:only-of-type {\n",
       "        vertical-align: middle;\n",
       "    }\n",
       "\n",
       "    .dataframe tbody tr th {\n",
       "        vertical-align: top;\n",
       "    }\n",
       "\n",
       "    .dataframe thead th {\n",
       "        text-align: right;\n",
       "    }\n",
       "</style>\n",
       "<table border=\"1\" class=\"dataframe\">\n",
       "  <thead>\n",
       "    <tr style=\"text-align: right;\">\n",
       "      <th></th>\n",
       "      <th>body</th>\n",
       "      <th>score_hidden</th>\n",
       "      <th>archived</th>\n",
       "      <th>name</th>\n",
       "      <th>author</th>\n",
       "      <th>author_flair_text</th>\n",
       "      <th>downs</th>\n",
       "      <th>created_utc</th>\n",
       "      <th>subreddit_id</th>\n",
       "      <th>link_id</th>\n",
       "      <th>parent_id</th>\n",
       "      <th>score</th>\n",
       "      <th>retrieved_on</th>\n",
       "      <th>controversiality</th>\n",
       "      <th>gilded</th>\n",
       "      <th>id</th>\n",
       "      <th>subreddit</th>\n",
       "      <th>ups</th>\n",
       "      <th>distinguished</th>\n",
       "      <th>author_flair_css_class</th>\n",
       "    </tr>\n",
       "  </thead>\n",
       "  <tbody>\n",
       "    <tr>\n",
       "      <th>0</th>\n",
       "      <td>Yeah I don’t think OP did anything wrong and h...</td>\n",
       "      <td>None</td>\n",
       "      <td>None</td>\n",
       "      <td>None</td>\n",
       "      <td>vanyali</td>\n",
       "      <td>None</td>\n",
       "      <td>None</td>\n",
       "      <td>1564790667</td>\n",
       "      <td>t5_2xhvq</td>\n",
       "      <td>t3_cl3e85</td>\n",
       "      <td>t1_evubf8c</td>\n",
       "      <td>2</td>\n",
       "      <td>1573497810</td>\n",
       "      <td>0</td>\n",
       "      <td>0</td>\n",
       "      <td>evubimr</td>\n",
       "      <td>AmItheAsshole</td>\n",
       "      <td>None</td>\n",
       "      <td>None</td>\n",
       "      <td>None</td>\n",
       "    </tr>\n",
       "    <tr>\n",
       "      <th>1</th>\n",
       "      <td>Nta and this story will need a follow up. Too ...</td>\n",
       "      <td>None</td>\n",
       "      <td>None</td>\n",
       "      <td>None</td>\n",
       "      <td>Ilurkthecorners</td>\n",
       "      <td>None</td>\n",
       "      <td>None</td>\n",
       "      <td>1564790813</td>\n",
       "      <td>t5_2xhvq</td>\n",
       "      <td>t3_cl8kbt</td>\n",
       "      <td>t3_cl8kbt</td>\n",
       "      <td>1</td>\n",
       "      <td>1573497903</td>\n",
       "      <td>0</td>\n",
       "      <td>0</td>\n",
       "      <td>evubpk1</td>\n",
       "      <td>AmItheAsshole</td>\n",
       "      <td>None</td>\n",
       "      <td>None</td>\n",
       "      <td>None</td>\n",
       "    </tr>\n",
       "    <tr>\n",
       "      <th>2</th>\n",
       "      <td>\"just an excuse for her to be mad at me\"??? WT...</td>\n",
       "      <td>None</td>\n",
       "      <td>None</td>\n",
       "      <td>None</td>\n",
       "      <td>kiwimaple</td>\n",
       "      <td>Asshole Enthusiast [5]</td>\n",
       "      <td>None</td>\n",
       "      <td>1564790890</td>\n",
       "      <td>t5_2xhvq</td>\n",
       "      <td>t3_clbe7w</td>\n",
       "      <td>t1_evu7oeq</td>\n",
       "      <td>19</td>\n",
       "      <td>1573497951</td>\n",
       "      <td>0</td>\n",
       "      <td>0</td>\n",
       "      <td>evubt2j</td>\n",
       "      <td>AmItheAsshole</td>\n",
       "      <td>None</td>\n",
       "      <td>None</td>\n",
       "      <td>None</td>\n",
       "    </tr>\n",
       "    <tr>\n",
       "      <th>3</th>\n",
       "      <td>NTA and my new idol. Fuck yeah throw his tooth...</td>\n",
       "      <td>None</td>\n",
       "      <td>None</td>\n",
       "      <td>None</td>\n",
       "      <td>FYAGTHPATY</td>\n",
       "      <td>None</td>\n",
       "      <td>None</td>\n",
       "      <td>1564790906</td>\n",
       "      <td>t5_2xhvq</td>\n",
       "      <td>t3_cl66r6</td>\n",
       "      <td>t3_cl66r6</td>\n",
       "      <td>1</td>\n",
       "      <td>1573497960</td>\n",
       "      <td>0</td>\n",
       "      <td>0</td>\n",
       "      <td>evubtts</td>\n",
       "      <td>AmItheAsshole</td>\n",
       "      <td>None</td>\n",
       "      <td>None</td>\n",
       "      <td>None</td>\n",
       "    </tr>\n",
       "    <tr>\n",
       "      <th>4</th>\n",
       "      <td>\\nIf you want your comment to count toward jud...</td>\n",
       "      <td>None</td>\n",
       "      <td>None</td>\n",
       "      <td>None</td>\n",
       "      <td>AutoModerator</td>\n",
       "      <td>Automation Enthusiast</td>\n",
       "      <td>None</td>\n",
       "      <td>1564790933</td>\n",
       "      <td>t5_2xhvq</td>\n",
       "      <td>t3_clc1ha</td>\n",
       "      <td>t3_clc1ha</td>\n",
       "      <td>1</td>\n",
       "      <td>1573497976</td>\n",
       "      <td>0</td>\n",
       "      <td>0</td>\n",
       "      <td>evubv4a</td>\n",
       "      <td>AmItheAsshole</td>\n",
       "      <td>None</td>\n",
       "      <td>moderator</td>\n",
       "      <td>None</td>\n",
       "    </tr>\n",
       "  </tbody>\n",
       "</table>\n",
       "</div>"
      ],
      "text/plain": [
       "                                                body score_hidden archived  \\\n",
       "0  Yeah I don’t think OP did anything wrong and h...         None     None   \n",
       "1  Nta and this story will need a follow up. Too ...         None     None   \n",
       "2  \"just an excuse for her to be mad at me\"??? WT...         None     None   \n",
       "3  NTA and my new idol. Fuck yeah throw his tooth...         None     None   \n",
       "4  \\nIf you want your comment to count toward jud...         None     None   \n",
       "\n",
       "   name           author       author_flair_text downs  created_utc  \\\n",
       "0  None          vanyali                    None  None   1564790667   \n",
       "1  None  Ilurkthecorners                    None  None   1564790813   \n",
       "2  None        kiwimaple  Asshole Enthusiast [5]  None   1564790890   \n",
       "3  None       FYAGTHPATY                    None  None   1564790906   \n",
       "4  None    AutoModerator   Automation Enthusiast  None   1564790933   \n",
       "\n",
       "  subreddit_id    link_id   parent_id  score  retrieved_on  controversiality  \\\n",
       "0     t5_2xhvq  t3_cl3e85  t1_evubf8c      2    1573497810                 0   \n",
       "1     t5_2xhvq  t3_cl8kbt   t3_cl8kbt      1    1573497903                 0   \n",
       "2     t5_2xhvq  t3_clbe7w  t1_evu7oeq     19    1573497951                 0   \n",
       "3     t5_2xhvq  t3_cl66r6   t3_cl66r6      1    1573497960                 0   \n",
       "4     t5_2xhvq  t3_clc1ha   t3_clc1ha      1    1573497976                 0   \n",
       "\n",
       "   gilded       id      subreddit   ups distinguished author_flair_css_class  \n",
       "0       0  evubimr  AmItheAsshole  None          None                   None  \n",
       "1       0  evubpk1  AmItheAsshole  None          None                   None  \n",
       "2       0  evubt2j  AmItheAsshole  None          None                   None  \n",
       "3       0  evubtts  AmItheAsshole  None          None                   None  \n",
       "4       0  evubv4a  AmItheAsshole  None     moderator                   None  "
      ]
     },
     "execution_count": 15,
     "metadata": {},
     "output_type": "execute_result"
    }
   ],
   "source": [
    "df_com.head()"
   ]
  },
  {
   "cell_type": "code",
   "execution_count": 35,
   "metadata": {},
   "outputs": [
    {
     "data": {
      "text/plain": [
       "t3_cw43oc    9351\n",
       "t3_cqin60    7626\n",
       "t3_cm0bft    7528\n",
       "t3_cvlkut    6629\n",
       "t3_cn7li5    5812\n",
       "             ... \n",
       "t3_cqywaf       1\n",
       "t3_cwp738       1\n",
       "t3_coc0uv       1\n",
       "t3_co7q4o       1\n",
       "t3_csomlh       1\n",
       "Name: link_id, Length: 35910, dtype: int64"
      ]
     },
     "execution_count": 35,
     "metadata": {},
     "output_type": "execute_result"
    }
   ],
   "source": [
    "# link_id is the matching key here\n",
    "df_com.link_id.value_counts()"
   ]
  },
  {
   "cell_type": "code",
   "execution_count": 47,
   "metadata": {},
   "outputs": [],
   "source": [
    "# Add post_id column to match with posts df\n",
    "df_com['post_id'] = df_com['link_id'].str.split('_',1).str[1]"
   ]
  },
  {
   "cell_type": "code",
   "execution_count": 72,
   "metadata": {},
   "outputs": [
    {
     "data": {
      "text/plain": [
       "body                      NTA, but don't participate in any other work e...\n",
       "score_hidden                                                           None\n",
       "archived                                                               None\n",
       "name                                                                   None\n",
       "author                                                     godrestsinreason\n",
       "author_flair_text                              Supreme Court Just-ass [123]\n",
       "downs                                                                  None\n",
       "created_utc                                                      1564748787\n",
       "subreddit_id                                                       t5_2xhvq\n",
       "link_id                                                           t3_cl3e85\n",
       "parent_id                                                         t3_cl3e85\n",
       "score                                                                  7631\n",
       "retrieved_on                                                     1573467667\n",
       "controversiality                                                          0\n",
       "gilded                                                                    0\n",
       "id                                                                  evsjzne\n",
       "subreddit                                                     AmItheAsshole\n",
       "ups                                                                    None\n",
       "distinguished                                                          None\n",
       "author_flair_css_class                                                 None\n",
       "post_id                                                              cl3e85\n",
       "Name: 1204382, dtype: object"
      ]
     },
     "execution_count": 72,
     "metadata": {},
     "output_type": "execute_result"
    }
   ],
   "source": [
    "# lets view all views for one post\n",
    "tamale_com = df_com[df_com['post_id']==df_com.post_id.iloc[0]]\n",
    "tamale_com.loc[tamale_com['score'].idxmax()]"
   ]
  },
  {
   "cell_type": "code",
   "execution_count": 68,
   "metadata": {},
   "outputs": [
    {
     "data": {
      "text/plain": [
       "'https://www.reddit.com/r/AmItheAsshole/comments/cl3e85/aita_for_bringing_van_tamales_to_a_potluck/'"
      ]
     },
     "execution_count": 68,
     "metadata": {},
     "output_type": "execute_result"
    }
   ],
   "source": [
    "# lets look at the post linked to these comments\n",
    "df.loc[df['id']==df_com.post_id.iloc[0],'url'].iloc[0]\n",
    "\n",
    "# max score is indeed the top comment"
   ]
  },
  {
   "cell_type": "code",
   "execution_count": 74,
   "metadata": {},
   "outputs": [
    {
     "data": {
      "text/plain": [
       "'Not the A-hole'"
      ]
     },
     "execution_count": 74,
     "metadata": {},
     "output_type": "execute_result"
    }
   ],
   "source": [
    "# check flair is correct\n",
    "df.loc[df['id']==df_com.post_id.iloc[0],'link_flair_text'].iloc[0]"
   ]
  },
  {
   "cell_type": "code",
   "execution_count": 75,
   "metadata": {},
   "outputs": [
    {
     "data": {
      "text/plain": [
       "4475"
      ]
     },
     "execution_count": 75,
     "metadata": {},
     "output_type": "execute_result"
    }
   ],
   "source": [
    "# we pulled the comments to get the score since score associated with posts df refers\n",
    "# the actual post. Lets see the difference\n",
    "df.loc[df['id']==df_com.post_id.iloc[0],'score'].iloc[0]"
   ]
  },
  {
   "cell_type": "markdown",
   "metadata": {},
   "source": [
    "### Lets iterate and bring comment score into posts dataframe. We are only considered with max score by post in the comment dataframe."
   ]
  },
  {
   "cell_type": "code",
   "execution_count": 91,
   "metadata": {},
   "outputs": [],
   "source": [
    "# subset comment df for max score\n",
    "com_score = pd.DataFrame(df_com.groupby(['post_id'])['score'].max().reset_index())\n",
    "com_score.columns = ['id','com_score']"
   ]
  },
  {
   "cell_type": "code",
   "execution_count": 90,
   "metadata": {},
   "outputs": [
    {
     "data": {
      "text/plain": [
       "1.0        854\n",
       "2.0        146\n",
       "19.0        62\n",
       "25.0        59\n",
       "22.0        58\n",
       "          ... \n",
       "15940.0      1\n",
       "530.0        1\n",
       "861.0        1\n",
       "1565.0       1\n",
       "1779.0       1\n",
       "Name: com_score, Length: 1706, dtype: int64"
      ]
     },
     "execution_count": 90,
     "metadata": {},
     "output_type": "execute_result"
    }
   ],
   "source": [
    "# merge com_score into post df\n",
    "df = pd.merge(df,com_score,how=\"left\",on='id')\n",
    "df['com_score'].value_counts()"
   ]
  },
  {
   "cell_type": "code",
   "execution_count": 96,
   "metadata": {},
   "outputs": [],
   "source": [
    "# Try iterating\n",
    "# Query comment data\n",
    "\n",
    "QUERY_com = (\"\"\" SELECT \n",
    "    body\n",
    "    , author\n",
    "    , author_flair_text\n",
    "    , link_id\n",
    "    , score\n",
    "    FROM fh-bigquery.reddit_comments.2019_08 \n",
    "    WHERE subreddit = 'AmItheAsshole'\n",
    "\n",
    "    UNION DISTINCT\n",
    "\n",
    "    SELECT body\n",
    "    , author\n",
    "    , author_flair_text\n",
    "    , link_id\n",
    "    , score\n",
    "    FROM `fh-bigquery.reddit_comments.2019_07`\n",
    "    WHERE subreddit = 'AmItheAsshole'\n",
    "\n",
    "    UNION DISTINCT\n",
    "\n",
    "    SELECT body\n",
    "    , author\n",
    "    , author_flair_text\n",
    "    , link_id\n",
    "    , score \n",
    "    FROM `fh-bigquery.reddit_comments.2019_06`\n",
    "    WHERE subreddit = 'AmItheAsshole'\n",
    "\n",
    "    UNION DISTINCT\n",
    "\n",
    "    SELECT body\n",
    "    , author\n",
    "    , author_flair_text\n",
    "    , link_id\n",
    "    , score \n",
    "    FROM `fh-bigquery.reddit_comments.2019_05`\n",
    "    WHERE subreddit = 'AmItheAsshole'\n",
    "\n",
    "    UNION DISTINCT\n",
    "\n",
    "    SELECT body\n",
    "    , author\n",
    "    , author_flair_text\n",
    "    , link_id\n",
    "    , score \n",
    "    FROM `fh-bigquery.reddit_comments.2019_04`\n",
    "    WHERE subreddit = 'AmItheAsshole'\n",
    "\n",
    "    UNION DISTINCT\n",
    "\n",
    "    SELECT body\n",
    "    , author\n",
    "    , author_flair_text\n",
    "    , link_id\n",
    "    , score \n",
    "    FROM `fh-bigquery.reddit_comments.2019_03`\n",
    "    WHERE subreddit = 'AmItheAsshole'\n",
    "\n",
    "    UNION DISTINCT\n",
    "\n",
    "    SELECT body\n",
    "    , author\n",
    "    , author_flair_text\n",
    "    , link_id\n",
    "    , score \n",
    "    FROM `fh-bigquery.reddit_comments.2019_02`\n",
    "    WHERE subreddit = 'AmItheAsshole'\n",
    "\n",
    "    UNION DISTINCT\n",
    "\n",
    "    SELECT body\n",
    "    , author\n",
    "    , author_flair_text\n",
    "    , link_id\n",
    "    , score \n",
    "    FROM `fh-bigquery.reddit_comments.2019_01`\n",
    "    WHERE subreddit = 'AmItheAsshole'\n",
    "\n",
    "    UNION DISTINCT\n",
    "\n",
    "    SELECT body\n",
    "    , author\n",
    "    , author_flair_text\n",
    "    , link_id\n",
    "    , score \n",
    "    FROM `fh-bigquery.reddit_comments.2018_12`\n",
    "    WHERE subreddit = 'AmItheAsshole'\n",
    "\n",
    "    UNION DISTINCT\n",
    "\n",
    "    SELECT body\n",
    "    , author\n",
    "    , author_flair_text\n",
    "    , link_id\n",
    "    , score \n",
    "    FROM `fh-bigquery.reddit_comments.2018_11`\n",
    "    WHERE subreddit = 'AmItheAsshole'\n",
    "    UNION DISTINCT\n",
    "\n",
    "    SELECT body\n",
    "    , author\n",
    "    , author_flair_text\n",
    "    , link_id\n",
    "    , score \n",
    "    FROM `fh-bigquery.reddit_comments.2018_10`\n",
    "    WHERE subreddit = 'AmItheAsshole'\n",
    "    UNION DISTINCT\n",
    "\n",
    "    SELECT body\n",
    "    , author\n",
    "    , author_flair_text\n",
    "    , link_id\n",
    "    , score \n",
    "    FROM `fh-bigquery.reddit_comments.2018_09`\n",
    "    WHERE subreddit = 'AmItheAsshole'\n",
    "    \"\"\")"
   ]
  },
  {
   "cell_type": "code",
   "execution_count": 97,
   "metadata": {},
   "outputs": [
    {
     "data": {
      "text/plain": [
       "(8074344, 5)"
      ]
     },
     "execution_count": 97,
     "metadata": {},
     "output_type": "execute_result"
    }
   ],
   "source": [
    "# API request\n",
    "query_job_com = client.query(QUERY_com)\n",
    "\n",
    "# Waits for query to finish\n",
    "rows_com = query_job_com.result()\n",
    "#for row in rows:\n",
    "#    print(row.name)\n",
    "df_com = query_job_com.to_dataframe()\n",
    "df_com.shape"
   ]
  },
  {
   "cell_type": "code",
   "execution_count": null,
   "metadata": {},
   "outputs": [],
   "source": [
    "df_com.to_pickle('reddit_aita_com_2019_08.pickle')"
   ]
  },
  {
   "cell_type": "code",
   "execution_count": null,
   "metadata": {},
   "outputs": [],
   "source": [
    "df_com = pd.read_pickle('reddit_aita_com_2019_08.pickle')"
   ]
  },
  {
   "cell_type": "code",
   "execution_count": null,
   "metadata": {},
   "outputs": [],
   "source": [
    "df_com.head()"
   ]
  },
  {
   "cell_type": "code",
   "execution_count": 94,
   "metadata": {},
   "outputs": [
    {
     "data": {
      "text/html": [
       "<div>\n",
       "<style scoped>\n",
       "    .dataframe tbody tr th:only-of-type {\n",
       "        vertical-align: middle;\n",
       "    }\n",
       "\n",
       "    .dataframe tbody tr th {\n",
       "        vertical-align: top;\n",
       "    }\n",
       "\n",
       "    .dataframe thead th {\n",
       "        text-align: right;\n",
       "    }\n",
       "</style>\n",
       "<table border=\"1\" class=\"dataframe\">\n",
       "  <thead>\n",
       "    <tr style=\"text-align: right;\">\n",
       "      <th></th>\n",
       "      <th>body</th>\n",
       "      <th>author</th>\n",
       "      <th>author_flair_text</th>\n",
       "      <th>link_id</th>\n",
       "      <th>score</th>\n",
       "    </tr>\n",
       "  </thead>\n",
       "  <tbody>\n",
       "    <tr>\n",
       "      <th>0</th>\n",
       "      <td>NTA. \\n\\nPlenty of moms raise two (or more) ki...</td>\n",
       "      <td>DarkDirector19</td>\n",
       "      <td>Partassipant [2]</td>\n",
       "      <td>t3_clbl2o</td>\n",
       "      <td>44</td>\n",
       "    </tr>\n",
       "    <tr>\n",
       "      <th>1</th>\n",
       "      <td>Im a 3rd year student. My income is total to z...</td>\n",
       "      <td>bosnianescapist11</td>\n",
       "      <td>None</td>\n",
       "      <td>t3_clbu09</td>\n",
       "      <td>4</td>\n",
       "    </tr>\n",
       "    <tr>\n",
       "      <th>2</th>\n",
       "      <td>I’m really surprised I had to scroll this far ...</td>\n",
       "      <td>potatochique</td>\n",
       "      <td>None</td>\n",
       "      <td>t3_cla71k</td>\n",
       "      <td>3</td>\n",
       "    </tr>\n",
       "    <tr>\n",
       "      <th>3</th>\n",
       "      <td>NTA. But also include a printout or them steal...</td>\n",
       "      <td>donnamatrix79</td>\n",
       "      <td>None</td>\n",
       "      <td>t3_cl8kbt</td>\n",
       "      <td>1</td>\n",
       "    </tr>\n",
       "    <tr>\n",
       "      <th>4</th>\n",
       "      <td>\\nIf you want your comment to count toward jud...</td>\n",
       "      <td>AutoModerator</td>\n",
       "      <td>Automation Enthusiast</td>\n",
       "      <td>t3_clc0rc</td>\n",
       "      <td>1</td>\n",
       "    </tr>\n",
       "  </tbody>\n",
       "</table>\n",
       "</div>"
      ],
      "text/plain": [
       "                                                body             author  \\\n",
       "0  NTA. \\n\\nPlenty of moms raise two (or more) ki...     DarkDirector19   \n",
       "1  Im a 3rd year student. My income is total to z...  bosnianescapist11   \n",
       "2  I’m really surprised I had to scroll this far ...       potatochique   \n",
       "3  NTA. But also include a printout or them steal...      donnamatrix79   \n",
       "4  \\nIf you want your comment to count toward jud...      AutoModerator   \n",
       "\n",
       "       author_flair_text    link_id  score  \n",
       "0       Partassipant [2]  t3_clbl2o     44  \n",
       "1                   None  t3_clbu09      4  \n",
       "2                   None  t3_cla71k      3  \n",
       "3                   None  t3_cl8kbt      1  \n",
       "4  Automation Enthusiast  t3_clc0rc      1  "
      ]
     },
     "execution_count": 94,
     "metadata": {},
     "output_type": "execute_result"
    }
   ],
   "source": [
    "# subset comment df for max score\n",
    "com_score = pd.DataFrame(df_com.groupby(['post_id'])['score'].max().reset_index())\n",
    "com_score.columns = ['id','com_score']"
   ]
  },
  {
   "cell_type": "code",
   "execution_count": null,
   "metadata": {},
   "outputs": [],
   "source": []
  },
  {
   "cell_type": "code",
   "execution_count": null,
   "metadata": {},
   "outputs": [],
   "source": []
  },
  {
   "cell_type": "code",
   "execution_count": null,
   "metadata": {},
   "outputs": [],
   "source": []
  },
  {
   "cell_type": "code",
   "execution_count": null,
   "metadata": {},
   "outputs": [],
   "source": []
  },
  {
   "cell_type": "code",
   "execution_count": null,
   "metadata": {},
   "outputs": [],
   "source": []
  },
  {
   "cell_type": "markdown",
   "metadata": {},
   "source": [
    "### Let's explore df framework now that it has the right scores."
   ]
  },
  {
   "cell_type": "code",
   "execution_count": 53,
   "metadata": {},
   "outputs": [
    {
     "name": "stdout",
     "output_type": "stream",
     "text": [
      "{'Not the A-hole': 0, 'Asshole': 1}\n"
     ]
    },
    {
     "data": {
      "text/plain": [
       "(17034, 36)"
      ]
     },
     "execution_count": 53,
     "metadata": {},
     "output_type": "execute_result"
    }
   ],
   "source": [
    "# pretty massive amount of posts with basically zero engagement\n",
    "# Take upper quartile of posts for more substantive dataset\n",
    "aita = df.loc[(df['score']>= 25) & (df['num_comments'] >= 5)].copy()\n",
    "\n",
    "\n",
    "# cutting some of the uncommon labels.. might want to leave them in?\n",
    "# df['link_flair_text'].value_counts()\n",
    "# aita = aita[aita['link_flair_text'].isin(['Not the A-hole','Asshole','No A-holes here','Everyone Sucks'])]\n",
    "aita = aita[aita['link_flair_text'].isin(['Not the A-hole','Asshole'])]\n",
    "\n",
    "# create 'label_id' with encoded categories\n",
    "aita['label_id'] = aita['link_flair_text'].factorize()[0]\n",
    "\n",
    "# why?\n",
    "label_id_df = aita[['link_flair_text','label_id']].drop_duplicates()\n",
    "\n",
    "# dictionaries for future use\n",
    "label_to_id = dict(label_id_df.values)\n",
    "id_to_label = dict(label_id_df[['label_id','link_flair_text']].values)\n",
    "\n",
    "print(label_to_id)\n",
    "\n",
    "aita.shape"
   ]
  },
  {
   "cell_type": "code",
   "execution_count": 54,
   "metadata": {},
   "outputs": [
    {
     "data": {
      "text/plain": [
       "Not the A-hole    12659\n",
       "Asshole            4375\n",
       "Name: link_flair_text, dtype: int64"
      ]
     },
     "execution_count": 54,
     "metadata": {},
     "output_type": "execute_result"
    }
   ],
   "source": [
    "# most values are overwhelmingly NTA\n",
    "aita['link_flair_text'].value_counts()"
   ]
  },
  {
   "cell_type": "code",
   "execution_count": 56,
   "metadata": {},
   "outputs": [
    {
     "data": {
      "text/plain": [
       "Text(0.5, 1.0, 'Score')"
      ]
     },
     "execution_count": 56,
     "metadata": {},
     "output_type": "execute_result"
    },
    {
     "data": {
      "image/png": "[encoded data removed]",
      "text/plain": [
       "<Figure size 432x288 with 1 Axes>"
      ]
     },
     "metadata": {
      "needs_background": "light"
     },
     "output_type": "display_data"
    }
   ],
   "source": [
    "aita['score'].hist(bins=50);\n",
    "plt.title('Score')"
   ]
  },
  {
   "cell_type": "code",
   "execution_count": 57,
   "metadata": {},
   "outputs": [
    {
     "data": {
      "text/plain": [
       "Text(0.5, 1.0, 'Number of Comments')"
      ]
     },
     "execution_count": 57,
     "metadata": {},
     "output_type": "execute_result"
    },
    {
     "data": {
      "image/png": "[encoded data removed]",
      "text/plain": [
       "<Figure size 432x288 with 1 Axes>"
      ]
     },
     "metadata": {
      "needs_background": "light"
     },
     "output_type": "display_data"
    }
   ],
   "source": [
    "aita['num_comments'].hist(bins=50);\n",
    "plt.title('Number of Comments')"
   ]
  },
  {
   "cell_type": "markdown",
   "metadata": {},
   "source": [
    "### Who was the biggest asshole?"
   ]
  },
  {
   "cell_type": "code",
   "execution_count": 58,
   "metadata": {},
   "outputs": [
    {
     "data": {
      "text/plain": [
       "'aljsdhnrthrow'"
      ]
     },
     "execution_count": 58,
     "metadata": {},
     "output_type": "execute_result"
    }
   ],
   "source": [
    "aita_big = aita.sort_values(by='score',ascending=False)\n",
    "aita_big = aita_big[aita_big['link_flair_text']=='Asshole']\n",
    "aita_big['author'].iloc[0]"
   ]
  },
  {
   "cell_type": "code",
   "execution_count": 59,
   "metadata": {},
   "outputs": [
    {
     "data": {
      "text/plain": [
       "'\\nThrowaway because husband told me I was TA and want to know before I get home and argue. On phone format is bad.\\n\\nI was in a higher end department store today (rhymes with loomingtales) and happened to end up next to two teenage aged girls while shopping. One of the girls had picked out a pair of VERY expensive boots and they were both fawning over them. Second girl must have looked at price tag and asks boots girl if she’s really gonna spend that much on boots. Girl with boots says something along the lines of “it’s fine I have my dads credit card I’m not paying ” which instantly caught my attention because THATS NOT HER CARD. I’ve told my son multiple times he’s never allowed to use my card so I’m interested to see how this girl thinks she’s going to get away with fraud but had split up from the girls at this point because they had found something else.\\n\\nWe end up at the same register (me behind) and I see her total hit well over four digits. The girl is about to swipe her card when I decide that I can’t let her get away with something like this and someone has to parent this kid if no one else will. I tell cashier that isn’t her card but her father’s and I’m not sure she has permission. Girl and friend turn and glare at me giving me possibly the dirtiest look I’ve ever seen. I swear this girl was going to throw a tantrum right there, I don’t think she was ever told no.\\n\\nGirl tells cashier her father gave her the card to shop with because it’s the stores credit card and it gives him the points. Now that I’ve pointed out it wasn’t hers cashier tells her she can’t use that card. Girl tries to show ID to prove they have the same last name ( yeah that will help) and I tell her it’s still fraud. Girl says it’s not fraud because she has permission and tells me to mind my own business. I tell her that it is my business that she’s doing something illegal she needs to pay with her own card or I call the cops. Girl is pissed now and people are glaring at me. She uses her own card and leaves crying. Cashier looks mad at me and I tell my husband when I get home only for him to agree I was in the wrong. \\n\\nSo Reddit, ATIA?'"
      ]
     },
     "execution_count": 59,
     "metadata": {},
     "output_type": "execute_result"
    }
   ],
   "source": [
    "aita_big['selftext'].iloc[0]"
   ]
  },
  {
   "cell_type": "code",
   "execution_count": 60,
   "metadata": {},
   "outputs": [],
   "source": [
    "def preprocess(sentence):\n",
    "    sentence = sentence.lower()\n",
    "    tokenizer = RegexpTokenizer(r'\\w+')\n",
    "    tokens = tokenizer.tokenize(sentence)\n",
    "    filtered_words = [w for w in tokens if not w in stopwords.words('english')]\n",
    "    lemmatizer = WordNetLemmatizer()\n",
    "    lemmas = [lemmatizer.lemmatize(w) for w in filtered_words]\n",
    "    return \" \".join(lemmas)"
   ]
  },
  {
   "cell_type": "code",
   "execution_count": 61,
   "metadata": {},
   "outputs": [],
   "source": [
    "aita['proc_title'] = [x.lower() for x in aita['title']]\n",
    "aita['proc_title'] = [s.translate(string.punctuation) for s in aita['proc_title']]"
   ]
  },
  {
   "cell_type": "code",
   "execution_count": 62,
   "metadata": {},
   "outputs": [],
   "source": [
    "aita['proc_title'] = [preprocess(x) for x in aita['title']]\n",
    "aita['proc_text'] = [preprocess(x) for x in aita['selftext']]\n",
    "\n",
    "aita['proc_title'] = [x.replace('aita', '') for x in aita['proc_title']]\n",
    "aita['proc_title'] = [x.replace('wibta', '') for x in aita['proc_title']]\n",
    "# x200b\n",
    "aita['proc_text'] = [x.replace('aita', '') for x in aita['proc_text']]\n",
    "aita['proc_text'] = [x.replace('wibta', '') for x in aita['proc_text']]\n",
    "aita['proc_title'] = [x.replace('asshole', '') for x in aita['proc_title']]\n",
    "aita['proc_text'] = [x.replace('asshole', '') for x in aita['proc_text']]"
   ]
  },
  {
   "cell_type": "code",
   "execution_count": null,
   "metadata": {},
   "outputs": [],
   "source": [
    "# nltk.download('wordnet')"
   ]
  },
  {
   "cell_type": "code",
   "execution_count": null,
   "metadata": {},
   "outputs": [],
   "source": [
    "aita.sort_values('num_comments', ascending = False, inplace = True)"
   ]
  },
  {
   "cell_type": "code",
   "execution_count": null,
   "metadata": {},
   "outputs": [],
   "source": [
    "aita['link_flair_text'].value_counts()"
   ]
  },
  {
   "cell_type": "code",
   "execution_count": null,
   "metadata": {},
   "outputs": [],
   "source": [
    "asshole_text = \" \".join(aita.loc[(aita['label_id'] == 0)]['proc_text'])\n",
    "nta_text = \" \".join(aita.loc[(aita['label_id'] == 1)]['proc_text'])\n",
    "na_text = \" \".join(aita.loc[(aita['label_id'] == 2)]['proc_text'])\n",
    "es_text = \" \".join(aita.loc[(aita['label_id'] == 3)]['proc_text'])"
   ]
  },
  {
   "cell_type": "code",
   "execution_count": null,
   "metadata": {},
   "outputs": [],
   "source": [
    "wordcloud = WordCloud( background_color=\"white\").generate(asshole_text)\n",
    "\n",
    "# Display the generated image:\n",
    "plt.figure(figsize = (15, 15))\n",
    "plt.imshow(wordcloud, interpolation='bilinear')\n",
    "plt.axis(\"off\")\n",
    "plt.title('Asshole Wordcloud')\n",
    "plt.show()"
   ]
  },
  {
   "cell_type": "code",
   "execution_count": null,
   "metadata": {},
   "outputs": [],
   "source": [
    "wordcloud = WordCloud( background_color=\"white\").generate(nta_text)\n",
    "\n",
    "# Display the generated image:\n",
    "plt.figure(figsize = (15, 15))\n",
    "plt.imshow(wordcloud, interpolation='bilinear')\n",
    "plt.axis(\"off\")\n",
    "plt.title('Not The Asshole Wordcloud')\n",
    "plt.show()"
   ]
  },
  {
   "cell_type": "code",
   "execution_count": null,
   "metadata": {},
   "outputs": [],
   "source": [
    "aita.describe()"
   ]
  },
  {
   "cell_type": "code",
   "execution_count": null,
   "metadata": {},
   "outputs": [],
   "source": [
    "len(aita)"
   ]
  },
  {
   "cell_type": "code",
   "execution_count": null,
   "metadata": {},
   "outputs": [],
   "source": [
    "aita['link_flair_text'].value_counts()"
   ]
  },
  {
   "cell_type": "code",
   "execution_count": null,
   "metadata": {},
   "outputs": [],
   "source": []
  },
  {
   "cell_type": "code",
   "execution_count": null,
   "metadata": {},
   "outputs": [],
   "source": []
  },
  {
   "cell_type": "code",
   "execution_count": null,
   "metadata": {},
   "outputs": [],
   "source": []
  },
  {
   "cell_type": "code",
   "execution_count": null,
   "metadata": {},
   "outputs": [],
   "source": []
  },
  {
   "cell_type": "markdown",
   "metadata": {
    "collapsed": true
   },
   "source": [
    "#### Terms\n",
    "Score: the number of upvotes minus the number of downvotes."
   ]
  },
  {
   "cell_type": "code",
   "execution_count": null,
   "metadata": {},
   "outputs": [],
   "source": []
  }
 ],
 "metadata": {
  "kernelspec": {
   "display_name": "Python 3",
   "language": "python",
   "name": "python3"
  },
  "language_info": {
   "codemirror_mode": {
    "name": "ipython",
    "version": 3
   },
   "file_extension": ".py",
   "mimetype": "text/x-python",
   "name": "python",
   "nbconvert_exporter": "python",
   "pygments_lexer": "ipython3",
   "version": "3.8.3"
  }
 },
 "nbformat": 4,
 "nbformat_minor": 2
}
